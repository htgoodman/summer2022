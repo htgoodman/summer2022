{
 "cells": [
  {
   "cell_type": "code",
   "execution_count": null,
   "metadata": {},
   "outputs": [],
   "source": [
    "## some of this is review; some is quite new"
   ]
  },
  {
   "cell_type": "code",
   "execution_count": 1,
   "metadata": {},
   "outputs": [],
   "source": [
    "import numpy as np\n",
    "from astropy.io import fits\n",
    "from matplotlib import pyplot as plt"
   ]
  },
  {
   "cell_type": "code",
   "execution_count": 3,
   "metadata": {},
   "outputs": [],
   "source": [
    "##next I am using a fits file that manga suggests "
   ]
  },
  {
   "cell_type": "code",
   "execution_count": 4,
   "metadata": {},
   "outputs": [],
   "source": [
    "# This assumes the MAPS file is in the current directory.  If that's not\n",
    "# true, replace '' below with the directory containing the data file.\n",
    "dir = ''\n",
    "hdu = fits.open(dir+'manga-7443-12703-MAPS-HYB10-MILESHC-MASTARSSP.fits.gz')"
   ]
  },
  {
   "cell_type": "code",
   "execution_count": 6,
   "metadata": {},
   "outputs": [],
   "source": [
    "#hdu"
   ]
  },
  {
   "cell_type": "code",
   "execution_count": 7,
   "metadata": {},
   "outputs": [
    {
     "name": "stdout",
     "output_type": "stream",
     "text": [
      "Filename: manga-7443-12703-MAPS-HYB10-MILESHC-MASTARSSP.fits.gz\n",
      "No.    Name      Ver    Type      Cards   Dimensions   Format\n",
      "  0  PRIMARY       1 PrimaryHDU     147   ()      \n",
      "  1  SPX_SKYCOO    1 ImageHDU        44   (74, 74, 2)   float32   \n",
      "  2  SPX_ELLCOO    1 ImageHDU        49   (74, 74, 4)   float32   \n",
      "  3  SPX_MFLUX     1 ImageHDU        37   (74, 74)   float32   \n",
      "  4  SPX_MFLUX_IVAR    1 ImageHDU        38   (74, 74)   float32   \n",
      "  5  SPX_SNR       1 ImageHDU        35   (74, 74)   float32   \n",
      "  6  BINID         1 ImageHDU        46   (74, 74, 5)   int32   \n",
      "  7  BIN_LWSKYCOO    1 ImageHDU        44   (74, 74, 2)   float32   \n",
      "  8  BIN_LWELLCOO    1 ImageHDU        49   (74, 74, 4)   float32   \n",
      "  9  BIN_AREA      1 ImageHDU        36   (74, 74)   float32   \n",
      " 10  BIN_FAREA     1 ImageHDU        35   (74, 74)   float32   \n",
      " 11  BIN_MFLUX     1 ImageHDU        38   (74, 74)   float32   \n",
      " 12  BIN_MFLUX_IVAR    1 ImageHDU        39   (74, 74)   float32   \n",
      " 13  BIN_MFLUX_MASK    1 ImageHDU        38   (74, 74)   int32   \n",
      " 14  BIN_SNR       1 ImageHDU        35   (74, 74)   float32   \n",
      " 15  STELLAR_VEL    1 ImageHDU        38   (74, 74)   float32   \n",
      " 16  STELLAR_VEL_IVAR    1 ImageHDU        39   (74, 74)   float32   \n",
      " 17  STELLAR_VEL_MASK    1 ImageHDU        38   (74, 74)   int32   \n",
      " 18  STELLAR_SIGMA    1 ImageHDU        38   (74, 74)   float32   \n",
      " 19  STELLAR_SIGMA_IVAR    1 ImageHDU        39   (74, 74)   float32   \n",
      " 20  STELLAR_SIGMA_MASK    1 ImageHDU        38   (74, 74)   int32   \n",
      " 21  STELLAR_SIGMACORR    1 ImageHDU        44   (74, 74, 2)   float32   \n",
      " 22  STELLAR_FOM    1 ImageHDU        59   (74, 74, 9)   float32   \n",
      " 23  EMLINE_SFLUX    1 ImageHDU        79   (74, 74, 35)   float32   \n",
      " 24  EMLINE_SFLUX_IVAR    1 ImageHDU        80   (74, 74, 35)   float32   \n",
      " 25  EMLINE_SFLUX_MASK    1 ImageHDU        79   (74, 74, 35)   int32   \n",
      " 26  EMLINE_SEW    1 ImageHDU        79   (74, 74, 35)   float32   \n",
      " 27  EMLINE_SEW_CNT    1 ImageHDU        77   (74, 74, 35)   float32   \n",
      " 28  EMLINE_SEW_IVAR    1 ImageHDU        80   (74, 74, 35)   float32   \n",
      " 29  EMLINE_SEW_MASK    1 ImageHDU        79   (74, 74, 35)   int32   \n",
      " 30  EMLINE_GFLUX    1 ImageHDU        79   (74, 74, 35)   float32   \n",
      " 31  EMLINE_GFLUX_IVAR    1 ImageHDU        80   (74, 74, 35)   float32   \n",
      " 32  EMLINE_GFLUX_MASK    1 ImageHDU        79   (74, 74, 35)   int32   \n",
      " 33  EMLINE_GEW    1 ImageHDU        79   (74, 74, 35)   float32   \n",
      " 34  EMLINE_GEW_CNT    1 ImageHDU        77   (74, 74, 35)   float32   \n",
      " 35  EMLINE_GEW_IVAR    1 ImageHDU        80   (74, 74, 35)   float32   \n",
      " 36  EMLINE_GEW_MASK    1 ImageHDU        79   (74, 74, 35)   int32   \n",
      " 37  EMLINE_GVEL    1 ImageHDU        79   (74, 74, 35)   float32   \n",
      " 38  EMLINE_GVEL_IVAR    1 ImageHDU        80   (74, 74, 35)   float32   \n",
      " 39  EMLINE_GVEL_MASK    1 ImageHDU        79   (74, 74, 35)   int32   \n",
      " 40  EMLINE_GSIGMA    1 ImageHDU        79   (74, 74, 35)   float32   \n",
      " 41  EMLINE_GSIGMA_IVAR    1 ImageHDU        80   (74, 74, 35)   float32   \n",
      " 42  EMLINE_GSIGMA_MASK    1 ImageHDU        79   (74, 74, 35)   int32   \n",
      " 43  EMLINE_INSTSIGMA    1 ImageHDU        77   (74, 74, 35)   float32   \n",
      " 44  EMLINE_TPLSIGMA    1 ImageHDU        77   (74, 74, 35)   float32   \n",
      " 45  EMLINE_GA     1 ImageHDU        77   (74, 74, 35)   float32   \n",
      " 46  EMLINE_GANR    1 ImageHDU        76   (74, 74, 35)   float32   \n",
      " 47  EMLINE_FOM    1 ImageHDU        59   (74, 74, 9)   float32   \n",
      " 48  EMLINE_LFOM    1 ImageHDU        76   (74, 74, 35)   float32   \n",
      " 49  SPECINDEX     1 ImageHDU       135   (74, 74, 46)   float32   \n",
      " 50  SPECINDEX_IVAR    1 ImageHDU       136   (74, 74, 46)   float32   \n",
      " 51  SPECINDEX_MASK    1 ImageHDU        90   (74, 74, 46)   int32   \n",
      " 52  SPECINDEX_CORR    1 ImageHDU        87   (74, 74, 46)   float32   \n",
      " 53  SPECINDEX_MODEL    1 ImageHDU        87   (74, 74, 46)   float32   \n",
      " 54  SPECINDEX_BF    1 ImageHDU       135   (74, 74, 46)   float32   \n",
      " 55  SPECINDEX_BF_IVAR    1 ImageHDU       136   (74, 74, 46)   float32   \n",
      " 56  SPECINDEX_BF_MASK    1 ImageHDU        90   (74, 74, 46)   int32   \n",
      " 57  SPECINDEX_BF_CORR    1 ImageHDU        87   (74, 74, 46)   float32   \n",
      " 58  SPECINDEX_BF_MODEL    1 ImageHDU        87   (74, 74, 46)   float32   \n",
      " 59  SPECINDEX_WGT    1 ImageHDU       135   (74, 74, 46)   float32   \n",
      " 60  SPECINDEX_WGT_IVAR    1 ImageHDU       136   (74, 74, 46)   float32   \n",
      " 61  SPECINDEX_WGT_MASK    1 ImageHDU        90   (74, 74, 46)   int32   \n",
      " 62  SPECINDEX_WGT_CORR    1 ImageHDU        87   (74, 74, 46)   float32   \n",
      " 63  SPECINDEX_WGT_MODEL    1 ImageHDU        87   (74, 74, 46)   float32   \n"
     ]
    }
   ],
   "source": [
    "hdu.info()"
   ]
  },
  {
   "cell_type": "code",
   "execution_count": 8,
   "metadata": {},
   "outputs": [
    {
     "data": {
      "text/plain": [
       "(35, 74, 74)"
      ]
     },
     "execution_count": 8,
     "metadata": {},
     "output_type": "execute_result"
    }
   ],
   "source": [
    "hdu['EMLINE_GFLUX'].data.shape #Halpha emission line / galactic flux\n",
    "#given as (velocity?) \"channel\", y-position, x-position."
   ]
  },
  {
   "cell_type": "code",
   "execution_count": 9,
   "metadata": {},
   "outputs": [
    {
     "data": {
      "text/plain": [
       "XTENSION= 'IMAGE   '           / Image extension                                \n",
       "BITPIX  =                  -32 / array data type                                \n",
       "NAXIS   =                    3 / number of array dimensions                     \n",
       "NAXIS1  =                   74                                                  \n",
       "NAXIS2  =                   74                                                  \n",
       "NAXIS3  =                   35                                                  \n",
       "PCOUNT  =                    0 / number of parameters                           \n",
       "GCOUNT  =                    1 / number of groups                               \n",
       "WCSAXES =                    3 / Number of coordinate axes                      \n",
       "CRPIX1  =                 38.0 / Pixel coordinate of reference point            \n",
       "CRPIX2  =                 38.0 / Pixel coordinate of reference point            \n",
       "CRPIX3  =                  1.0 / Pixel coordinate of reference point            \n",
       "PC1_1   =         -0.000138889 / Coordinate transformation matrix element       \n",
       "PC2_2   =          0.000138889 / Coordinate transformation matrix element       \n",
       "CDELT1  =                  1.0 / [deg] Coordinate increment at reference point  \n",
       "CDELT2  =                  1.0 / [deg] Coordinate increment at reference point  \n",
       "CDELT3  =                  1.0 / Coordinate increment at reference point        \n",
       "CUNIT1  = 'deg'                / Units of coordinate increment and value        \n",
       "CUNIT2  = 'deg'                / Units of coordinate increment and value        \n",
       "CTYPE1  = 'RA---TAN'           / Right ascension, gnomonic projection           \n",
       "CTYPE2  = 'DEC--TAN'           / Declination, gnomonic projection               \n",
       "CTYPE3  = '        '           / Undefined type                                 \n",
       "CRVAL1  =            229.52558 / [deg] Coordinate value at reference point      \n",
       "CRVAL2  =            42.745842 / [deg] Coordinate value at reference point      \n",
       "CRVAL3  =                  1.0 / Coordinate value at reference point            \n",
       "LONPOLE =                180.0 / [deg] Native longitude of celestial pole       \n",
       "LATPOLE =            42.745842 / [deg] Native latitude of celestial pole        \n",
       "MJDREF  =                  0.0 / [d] MJD of fiducial time                       \n",
       "DATE-OBS= '2014-03-28'         / Date of median exposure                        \n",
       "MJD-OBS =             56744.0  / [d] MJD for DATE-OBS                           \n",
       "RADESYS = 'FK5'                / Equatorial coordinate system                   \n",
       "EQUINOX =               2000.0 / [yr] Equinox of equatorial coordinates         \n",
       "CUNIT3  = '        '           / Undefined units                                \n",
       "AUTHOR  = 'K Westfall <westfall@ucolick.org> & SDSS-IV Data Group'              \n",
       "MASKNAME= 'MANGA_DAPPIXMASK'                                                    \n",
       "C01     = 'OII-3727'           / Data in channel 1                              \n",
       "C02     = 'OII-3729'           / Data in channel 2                              \n",
       "C03     = 'H12-3751'           / Data in channel 3                              \n",
       "C04     = 'H11-3771'           / Data in channel 4                              \n",
       "C05     = 'Hthe-3798'          / Data in channel 5                              \n",
       "C06     = 'Heta-3836'          / Data in channel 6                              \n",
       "C07     = 'NeIII-3869'         / Data in channel 7                              \n",
       "C08     = 'HeI-3889'           / Data in channel 8                              \n",
       "C09     = 'Hzet-3890'          / Data in channel 9                              \n",
       "C10     = 'NeIII-3968'         / Data in channel 10                             \n",
       "C11     = 'Heps-3971'          / Data in channel 11                             \n",
       "C12     = 'Hdel-4102'          / Data in channel 12                             \n",
       "C13     = 'Hgam-4341'          / Data in channel 13                             \n",
       "C14     = 'HeII-4687'          / Data in channel 14                             \n",
       "C15     = 'Hb-4862 '           / Data in channel 15                             \n",
       "C16     = 'OIII-4960'          / Data in channel 16                             \n",
       "C17     = 'OIII-5008'          / Data in channel 17                             \n",
       "C18     = 'NI-5199 '           / Data in channel 18                             \n",
       "C19     = 'NI-5201 '           / Data in channel 19                             \n",
       "C20     = 'HeI-5877'           / Data in channel 20                             \n",
       "C21     = 'OI-6302 '           / Data in channel 21                             \n",
       "C22     = 'OI-6365 '           / Data in channel 22                             \n",
       "C23     = 'NII-6549'           / Data in channel 23                             \n",
       "C24     = 'Ha-6564 '           / Data in channel 24                             \n",
       "C25     = 'NII-6585'           / Data in channel 25                             \n",
       "C26     = 'SII-6718'           / Data in channel 26                             \n",
       "C27     = 'SII-6732'           / Data in channel 27                             \n",
       "C28     = 'HeI-7067'           / Data in channel 28                             \n",
       "C29     = 'ArIII-7137'         / Data in channel 29                             \n",
       "C30     = 'ArIII-7753'         / Data in channel 30                             \n",
       "C31     = 'Peta-9017'          / Data in channel 31                             \n",
       "C32     = 'SIII-9071'          / Data in channel 32                             \n",
       "C33     = 'Pzet-9231'          / Data in channel 33                             \n",
       "C34     = 'SIII-9533'          / Data in channel 34                             \n",
       "C35     = 'Peps-9548'          / Data in channel 35                             \n",
       "BUNIT   = '1E-17 erg/s/cm^2/spaxel' / Unit of pixel value                       \n",
       "HDUCLASS= 'SDSS    '           / SDSS format class                              \n",
       "HDUCLAS1= 'CUBE    '           / Data format                                    \n",
       "HDUCLAS2= 'DATA    '                                                            \n",
       "ERRDATA = 'EMLINE_GFLUX_IVAR'  / Associated inv. variance extension             \n",
       "QUALDATA= 'EMLINE_GFLUX_MASK'  / Associated quality extension                   \n",
       "EXTNAME = 'EMLINE_GFLUX'       / extension name                                 \n",
       "CHECKSUM= 'WJlKZIkJWIkJWIkJ'   / HDU checksum updated 2020-12-25T00:56:20       \n",
       "DATASUM = '4230033514'         / data unit checksum updated 2020-12-25T00:56:20 "
      ]
     },
     "execution_count": 9,
     "metadata": {},
     "output_type": "execute_result"
    }
   ],
   "source": [
    "hdu['EMLINE_GFLUX'].header #gives details for the extension of Halpha flux"
   ]
  },
  {
   "cell_type": "code",
   "execution_count": 10,
   "metadata": {},
   "outputs": [],
   "source": [
    "flux_halpha = hdu['EMLINE_GFLUX'].data[23]\n",
    "#defines this as a pipeline of sorts?"
   ]
  },
  {
   "cell_type": "code",
   "execution_count": 11,
   "metadata": {},
   "outputs": [],
   "source": [
    "emline = {}\n",
    "for k, v in hdu['EMLINE_GFLUX'].header.items():\n",
    "    if k[0] == 'C':\n",
    "        try:\n",
    "            i = int(k[1:])-1\n",
    "        except ValueError:\n",
    "            continue\n",
    "        emline[v] = i"
   ]
  },
  {
   "cell_type": "code",
   "execution_count": 12,
   "metadata": {},
   "outputs": [],
   "source": [
    "flux_halpha = hdu['EMLINE_GFLUX'].data[emline['Ha-6564']]"
   ]
  },
  {
   "cell_type": "code",
   "execution_count": 13,
   "metadata": {},
   "outputs": [
    {
     "data": {
      "image/png": "[encoded data removed]",
      "text/plain": [
       "<Figure size 432x288 with 2 Axes>"
      ]
     },
     "metadata": {
      "needs_background": "light"
     },
     "output_type": "display_data"
    }
   ],
   "source": [
    "plt.clf() #need to look into this extension... acronym clf?\n",
    "plt.imshow(hdu['EMLINE_GFLUX'].data[emline['Ha-6564']], origin='lower', interpolation='nearest',\n",
    "           cmap='inferno')\n",
    "plt.colorbar(label=r'H$\\alpha$ Flux [$10^{-17}$ erg/s/cm$^2$/spaxel]')\n",
    "plt.show()"
   ]
  },
  {
   "cell_type": "code",
   "execution_count": 14,
   "metadata": {},
   "outputs": [],
   "source": [
    "mask_extension = hdu['EMLINE_GFLUX'].header['QUALDATA']"
   ]
  },
  {
   "cell_type": "code",
   "execution_count": null,
   "metadata": {},
   "outputs": [],
   "source": []
  }
 ],
 "metadata": {
  "kernelspec": {
   "display_name": "Python 3.8 (py38)",
   "language": "python",
   "name": "py38"
  },
  "language_info": {
   "codemirror_mode": {
    "name": "ipython",
    "version": 3
   },
   "file_extension": ".py",
   "mimetype": "text/x-python",
   "name": "python",
   "nbconvert_exporter": "python",
   "pygments_lexer": "ipython3",
   "version": "3.8.5"
  }
 },
 "nbformat": 4,
 "nbformat_minor": 4
}
